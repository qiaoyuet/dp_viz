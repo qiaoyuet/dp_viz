{
 "cells": [
  {
   "cell_type": "code",
   "execution_count": null,
   "metadata": {},
   "outputs": [],
   "source": [
    "import os\n",
    "from pathlib import Path\n",
    "import wandb\n",
    "from tqdm.auto import tqdm\n",
    "import pandas as pd\n",
    "import numpy as np\n",
    "\n",
    "def get_summary_metrics(sweep_id, config_keys=None, filter_func=None):\n",
    "  api = wandb.Api(timeout=60)\n",
    "  sweep = api.sweep(sweep_id)\n",
    "\n",
    "  data = []\n",
    "  for run in tqdm(sweep.runs, desc='Runs', leave=False):\n",
    "    cfg = {k: run.config[k] for k in config_keys or []}\n",
    "    if callable(filter_func) and not filter_func(run, cfg):\n",
    "      continue\n",
    "    data.append(dict(run_id=run.id, **cfg, **run.summary))\n",
    "\n",
    "  return sweep, pd.DataFrame(data)"
   ]
  },
  {
   "cell_type": "code",
   "execution_count": null,
   "metadata": {},
   "outputs": [],
   "source": [
    "import seaborn as sns\n",
    "import matplotlib.pyplot as plt\n",
    "from matplotlib import ticker\n",
    "\n",
    "sns.set(font_scale=2, style='whitegrid')"
   ]
  },
  {
   "cell_type": "code",
   "execution_count": null,
   "metadata": {},
   "outputs": [],
   "source": [
    "def f(run, _):\n",
    "    return run.state == 'finished'\n",
    "\n",
    "## Scratch\n",
    "sweep_id = 'deeplearn/pactl/ofqs9zqv'\n",
    "_, scratch_metrics = get_summary_metrics(sweep_id=sweep_id,\n",
    "                                 config_keys=['levels', 'use_kmeans', 'intrinsic_dim', 'scale_posterior'],\n",
    "                                 filter_func=f)\n",
    "scratch_metrics['mode'] = 'scratch'\n",
    "\n",
    "## Transfer\n",
    "sweep_id = 'deeplearn/pactl/bjhfcr9n'\n",
    "_, tran_metrics = get_summary_metrics(sweep_id=sweep_id,\n",
    "                                 config_keys=['levels', 'use_kmeans', 'intrinsic_dim', 'scale_posterior'],\n",
    "                                 filter_func=f)\n",
    "tran_metrics['mode'] = 'transfer'\n",
    "\n",
    "all_metrics = pd.concat([scratch_metrics, tran_metrics]).reset_index().drop(columns=['index'])\n",
    "all_metrics['err_train_100'] = (1 - all_metrics['train_acc']) * 100\n",
    "all_metrics['quantized_err_train_100'] = (1 - all_metrics['quantized_train_acc']) * 100\n",
    "all_metrics['err_test_100'] = (1 - all_metrics['test_acc']) * 100\n",
    "all_metrics['quantized_err_test_100'] = (1 - all_metrics['quantized_test_acc']) * 100\n",
    "all_metrics['err_bound_100'] = all_metrics['err_bound_100'].astype(float)\n",
    "\n",
    "# all_metrics.to_csv('mnist_bounds.csv', index=False)"
   ]
  },
  {
   "cell_type": "markdown",
   "metadata": {},
   "source": [
    "## Train/Test Accuracy Comparison"
   ]
  },
  {
   "cell_type": "code",
   "execution_count": null,
   "metadata": {},
   "outputs": [],
   "source": [
    "fig, axes = plt.subplots(figsize=(11,4), ncols=2)\n",
    "\n",
    "ax = axes[0]\n",
    "sns.lineplot(ax=ax, data=all_metrics, x='intrinsic_dim', y='err_test_100',\n",
    "             style='mode', hue='mode', marker='o', markersize=11, linewidth=3)\n",
    "ax.set(xlabel='Intrinsic Dimension', ylabel='Test Error', yscale='log')\n",
    "\n",
    "handles, labels = ax.get_legend_handles_labels()\n",
    "for idx, (h, l) in enumerate(zip(handles, labels)):\n",
    "    h.set(marker='o', markersize=11, linewidth=3)\n",
    "    labels[idx] = l.capitalize()\n",
    "ax.legend(handles=handles, labels=labels)\n",
    "\n",
    "# formatter = ticker.ScalarFormatter(useMathText=True)\n",
    "# formatter.set_scientific(True)\n",
    "# formatter.set_powerlimits((-1,1))\n",
    "# ax.yaxis.set_major_formatter(formatter)\n",
    "\n",
    "# fig, ax = plt.subplots(figsize=(6,3))\n",
    "ax = axes[1]\n",
    "sns.lineplot(ax=ax, data=all_metrics, x='intrinsic_dim', y='err_train_100',\n",
    "             style='mode', hue='mode', marker='o', markersize=11, linewidth=3)\n",
    "ax.set(xlabel='Intrinsic Dimension', ylabel='Train Error', yscale='log')\n",
    "\n",
    "handles, labels = ax.get_legend_handles_labels()\n",
    "for idx, (h, l) in enumerate(zip(handles, labels)):\n",
    "    h.set(marker='o', markersize=11, linewidth=3)\n",
    "    labels[idx] = l.capitalize()\n",
    "ax.legend(handles=handles, labels=labels)\n",
    "\n",
    "# ax.yaxis.set_major_formatter(formatter)\n",
    "\n",
    "fig.show()\n",
    "fig.tight_layout()"
   ]
  },
  {
   "cell_type": "markdown",
   "metadata": {},
   "source": [
    "## Error Bound v/s Test Error"
   ]
  },
  {
   "cell_type": "code",
   "execution_count": null,
   "metadata": {},
   "outputs": [],
   "source": [
    "best_bound_metrics = all_metrics.iloc[all_metrics.groupby(['mode', 'intrinsic_dim'])['err_bound_100'].idxmin()]\n",
    "best_bound_metrics = best_bound_metrics[best_bound_metrics.err_bound_100 < 50]\n",
    "best_bound_metrics[['run_id', 'intrinsic_dim', 'mode', 'quantized_err_train_100', 'quantized_err_test_100', 'err_test_100', 'err_bound_100']]"
   ]
  },
  {
   "cell_type": "code",
   "execution_count": null,
   "metadata": {},
   "outputs": [],
   "source": [
    "from palettable.cartocolors.qualitative import Bold_5_r as _palette\n",
    "\n",
    "fig, ax = plt.subplots(figsize=(6,6))\n",
    "\n",
    "# ax.plot(np.arange(0, 15, .1), np.arange(0, 15, .1), '--', c='gray', alpha=.5, zorder=1)\n",
    "\n",
    "sns.scatterplot(ax=ax, data=best_bound_metrics, x='err_test_100', y='err_bound_100',\n",
    "                style='mode', s=400, hue='intrinsic_dim',\n",
    "                palette=sns.color_palette(_palette.mpl_colors, best_bound_metrics.intrinsic_dim.nunique()))\n",
    "ax.set(xlabel='Test Error', ylabel='Test Error Bound')\n",
    "\n",
    "x_all = [-.18, .03, .03, .03, -.05, 0, 0, 0]\n",
    "y_all = [-.3, -.25, -.25, -.25, -1.25, 0, 0, 0]\n",
    "for (_, row), _dx, _dy in zip(best_bound_metrics.iterrows(), x_all, y_all):\n",
    "    if row['mode'] != 'scratch':\n",
    "        continue\n",
    "    ax.text(row['err_test_100'] + _dx , row['err_bound_100'] + _dy, r\"$d$=\" + f\"{row['intrinsic_dim']}\",\n",
    "            fontsize=18)\n",
    "\n",
    "handles, labels = ax.get_legend_handles_labels()\n",
    "for idx, (h, l) in enumerate(zip(handles, labels)):\n",
    "    h.set_sizes([100])\n",
    "    labels[idx] = l.capitalize()\n",
    "handles, labels = handles[-2:], labels[-2:]\n",
    "ax.legend(handles=handles, labels=labels)\n",
    "\n",
    "fig.show()\n",
    "fig.savefig('bound_vs_test_err.pdf', bbox_inches='tight')"
   ]
  },
  {
   "cell_type": "markdown",
   "metadata": {},
   "source": [
    "## Train v/s Test Error"
   ]
  },
  {
   "cell_type": "code",
   "execution_count": null,
   "metadata": {},
   "outputs": [],
   "source": [
    "fig, ax = plt.subplots(figsize=(5,5))\n",
    "\n",
    "sns.scatterplot(ax=ax, data=best_bound_metrics, x='err_test_100', y='err_train_100',\n",
    "                style='mode', s=100, hue='intrinsic_dim',\n",
    "                palette=sns.color_palette('tab20', best_bound_metrics.intrinsic_dim.nunique()))\n",
    "ax.set(xlabel='Test Error', ylabel='Train Error', xlim=[0, 100], ylim=[0,105])\n",
    "ax.plot(np.arange(0, 100, .1), np.arange(0, 100, .1), '--', c='gray', alpha=.5)\n",
    "\n",
    "handles, labels = ax.get_legend_handles_labels()\n",
    "for idx, (h, l) in enumerate(zip(handles, labels)):\n",
    "    labels[idx] = l.capitalize()\n",
    "handles, labels = handles[-2:], labels[-2:]\n",
    "ax.legend(handles=handles, labels=labels)\n",
    "ax.axis('equal')\n",
    "\n",
    "fig.show()"
   ]
  }
 ],
 "metadata": {
  "interpreter": {
   "hash": "9a29c0d4cdbde0795a1c6bbf68b0f44210ca6bb19f803d01e942dae22462c9a8"
  },
  "kernelspec": {
   "display_name": "Python 3.9.12 ('pactl')",
   "language": "python",
   "name": "python3"
  },
  "language_info": {
   "codemirror_mode": {
    "name": "ipython",
    "version": 3
   },
   "file_extension": ".py",
   "mimetype": "text/x-python",
   "name": "python",
   "nbconvert_exporter": "python",
   "pygments_lexer": "ipython3",
   "version": "3.9.12"
  },
  "orig_nbformat": 4
 },
 "nbformat": 4,
 "nbformat_minor": 2
}
