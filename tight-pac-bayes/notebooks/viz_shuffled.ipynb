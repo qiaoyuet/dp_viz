{
 "cells": [
  {
   "cell_type": "code",
   "execution_count": null,
   "metadata": {},
   "outputs": [],
   "source": [
    "import matplotlib.pyplot as plt\n",
    "from matplotlib import ticker\n",
    "import seaborn as sns\n",
    "\n",
    "import pandas as pd\n",
    "import dill\n",
    "\n",
    "sns.set(font_scale=2.5, style='whitegrid')\n",
    "\n",
    "folder = '../experiments/transfer_learning/shuffled'\n",
    "# read pandas dataframe\n",
    "with open(f'{folder}/results.df', 'rb') as f:\n",
    "    df = dill.load(f)\n",
    "\n",
    "df.loc[df['expt'].str.contains('cnn'),'model']='CNN'\n",
    "df.loc[df['expt'].str.contains('mlp'),'model']='MLP'\n",
    "\n",
    "mlp_shuffled_pixels = df[df['expt']=='mlp'].copy()\n",
    "mlp_shuffled_pixels['expt'] = 'mlp_shuffled_pixels'\n",
    "# append mlp_shuffled to dataframe but with 'expt'='mlp_shuffled_pixels' since equivalent\n",
    "df = pd.concat([mlp_shuffled_pixels,df]).reset_index().drop(columns=['index'])"
   ]
  },
  {
   "cell_type": "code",
   "execution_count": null,
   "metadata": {},
   "outputs": [],
   "source": [
    "# palette = [sns.cubehelix_palette(as_cmap=False)[i] for i in range(6)]\n",
    "# palette = [palette[1], palette[-2]]\n",
    "from palettable.cartocolors.diverging import Temps_5\n",
    "palette = Temps_5.mpl_colors\n",
    "palette = [palette[1], palette[-1]]"
   ]
  },
  {
   "cell_type": "code",
   "execution_count": null,
   "metadata": {},
   "outputs": [],
   "source": [
    "fig, axes = plt.subplots(1, 3, figsize=(17, 5), sharey=True)\n",
    "fig.tight_layout(h_pad=100)\n",
    "\n",
    "expt_name = ''\n",
    "\n",
    "for i, (ax, expt_name, title) in enumerate(zip(axes,\n",
    "                                        ['', '_shuffled_pixels', '_shuffled_labels'],\n",
    "                                        ['Standard', 'Shuffled Pixels', 'Shuffled Labels'])):\n",
    "    dfa = df.loc[df['expt'].str[3:]==expt_name]\n",
    "\n",
    "    sns.lineplot(data=dfa, ax=ax, x='d', y='raw_err_bound_100',\n",
    "                hue='model', legend=False, alpha=.9, lw=7,\n",
    "                palette=palette,\n",
    "                hue_order=['CNN', 'MLP'])\n",
    "    sns.scatterplot(data=dfa, ax=ax, x='d', y='raw_err_bound_100', hue='model',\n",
    "                    alpha=.9, marker='o', s=300, legend=(i==2),\n",
    "                    palette=palette,\n",
    "                    hue_order=['CNN', 'MLP'])\n",
    "\n",
    "    if i == 2:\n",
    "        handles, labels = ax.get_legend_handles_labels()\n",
    "        for h in handles:\n",
    "            h.set_sizes([300])\n",
    "            h.set_alpha(.9)\n",
    "        ax.legend(handles=handles, labels=labels, title='', loc='lower right')\n",
    "\n",
    "    formatter = ticker.ScalarFormatter(useMathText=True)\n",
    "    formatter.set_scientific(True)\n",
    "    formatter.set_powerlimits((-1,1))\n",
    "    ax.xaxis.set_major_formatter(formatter)\n",
    "\n",
    "    ax.set(xlabel='', ylabel='', xticks=[0,1e4,2e4,3e4])\n",
    "    ax.set_title(title, pad=20)\n",
    "    if i == 0:\n",
    "        ax.set(ylabel=r'Err. Bound ($\\%$)', yticks=[60,70,80,90,100])\n",
    "\n",
    "fig.text(0.5, -0.05, r'Subspace Dimension $d$', va='center', ha='center')\n",
    "fig.show()\n",
    "fig.savefig('shuffled.pdf', bbox_inches='tight')"
   ]
  },
  {
   "cell_type": "code",
   "execution_count": null,
   "metadata": {},
   "outputs": [],
   "source": []
  }
 ],
 "metadata": {
  "interpreter": {
   "hash": "9a29c0d4cdbde0795a1c6bbf68b0f44210ca6bb19f803d01e942dae22462c9a8"
  },
  "kernelspec": {
   "display_name": "Python 3.9.12 ('pactl')",
   "language": "python",
   "name": "python3"
  },
  "language_info": {
   "codemirror_mode": {
    "name": "ipython",
    "version": 3
   },
   "file_extension": ".py",
   "mimetype": "text/x-python",
   "name": "python",
   "nbconvert_exporter": "python",
   "pygments_lexer": "ipython3",
   "version": "3.9.12"
  },
  "orig_nbformat": 4
 },
 "nbformat": 4,
 "nbformat_minor": 2
}
