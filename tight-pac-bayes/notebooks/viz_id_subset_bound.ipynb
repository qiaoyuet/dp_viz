{
 "cells": [
  {
   "cell_type": "code",
   "execution_count": null,
   "metadata": {},
   "outputs": [],
   "source": [
    "from tqdm.auto import tqdm\n",
    "import wandb\n",
    "import pandas as pd\n",
    "\n",
    "\n",
    "def get_summary_metrics(sweep_id, filter_func=None):\n",
    "  api = wandb.Api()\n",
    "  sweep = api.sweep(sweep_id)\n",
    "\n",
    "  data = []\n",
    "  for run in tqdm(sweep.runs, desc='Runs', leave=False):\n",
    "    if callable(filter_func) and not filter_func(run):\n",
    "      continue\n",
    "    data.append(dict(run_id=run.id, **run.config, **run.summary))\n",
    "\n",
    "  return sweep, pd.DataFrame(data)"
   ]
  },
  {
   "cell_type": "code",
   "execution_count": null,
   "metadata": {},
   "outputs": [],
   "source": [
    "all_metrics = []\n",
    "for s_id, _dset in zip([\n",
    "  'deeplearn/pactl/jpe804ba', 'deeplearn/pactl/6vezy6j2', 'deeplearn/pactl/gebtk6cj',\n",
    "  'deeplearn/pactl/fxiv2f7l', 'deeplearn/pactl/14okon9o', 'deeplearn/pactl/93dkg8vg',\n",
    "], ['CIFAR-10', 'CIFAR-10', 'CIFAR-10', 'CIFAR-100', 'CIFAR-100', 'CIFAR-100']):\n",
    "  _, _data = get_summary_metrics(s_id)\n",
    "  _data['dataset'] = _dset\n",
    "  all_metrics.append(_data)\n",
    "\n",
    "for s_id, _dset in zip([\n",
    "  'deeplearn/pactl/4k5ujb2j', 'deeplearn/pactl/oo2f42i9', 'deeplearn/pactl/ybugd5bn',\n",
    "  'deeplearn/pactl/gtwp5qw2', 'deeplearn/pactl/dmtqx539', 'deeplearn/pactl/e8vkg5u7',\n",
    "], ['CIFAR-10', 'CIFAR-10', 'CIFAR-10', 'CIFAR-100', 'CIFAR-100', 'CIFAR-100']):\n",
    "  _, _data = get_summary_metrics(s_id)\n",
    "  _data['dataset'] = _dset\n",
    "  _data['intrinsic_dim'] = 0\n",
    "  all_metrics.append(_data)\n",
    "\n",
    "all_metrics = pd.concat(all_metrics).reset_index().drop(columns=['index'])\n",
    "all_metrics.train_subset *= -1"
   ]
  },
  {
   "cell_type": "code",
   "execution_count": null,
   "metadata": {},
   "outputs": [],
   "source": [
    "best_metrics = all_metrics.iloc[all_metrics.groupby(['dataset', 'intrinsic_dim', 'train_subset'])['raw_err_bound_100'].idxmin()]"
   ]
  },
  {
   "cell_type": "markdown",
   "metadata": {},
   "source": [
    "## CIFAR-10"
   ]
  },
  {
   "cell_type": "code",
   "execution_count": null,
   "metadata": {},
   "outputs": [],
   "source": [
    "import matplotlib.pyplot as plt\n",
    "import seaborn as sns\n",
    "\n",
    "from palettable.cartocolors.diverging import Temps_4\n",
    "\n",
    "sns.set(font_scale=2., style='whitegrid')\n",
    "\n",
    "fig, ax = plt.subplots(figsize=(9,6.5))\n",
    "\n",
    "sns.lineplot(ax=ax, data=best_metrics[best_metrics.dataset == 'CIFAR-10'],\n",
    "             x='train_subset', y='raw_err_bound_100', hue='intrinsic_dim',\n",
    "             lw=8, marker='o', markersize=18,\n",
    "             palette=Temps_4.mpl_colors)\n",
    "ax.set(xticks=[.2, .5, .8], xlabel='Prior Train Subset', ylabel=r'Err. Bound ($\\%$)')\n",
    "\n",
    "handles, labels = ax.get_legend_handles_labels()\n",
    "for h in handles:\n",
    "    h.set(linewidth=8)\n",
    "ax.legend(handles=handles, labels=labels, title='Intrinsic. Dim.', loc='best')\n",
    "\n",
    "fig.tight_layout()\n",
    "fig.show()\n",
    "\n",
    "# fig.savefig('c10_id_subset.pdf', bbox_inches='tight')"
   ]
  },
  {
   "cell_type": "markdown",
   "metadata": {},
   "source": [
    "## CIFAR-100"
   ]
  },
  {
   "cell_type": "code",
   "execution_count": null,
   "metadata": {},
   "outputs": [],
   "source": [
    "import matplotlib.pyplot as plt\n",
    "import seaborn as sns\n",
    "\n",
    "from palettable.cartocolors.diverging import Temps_5\n",
    "\n",
    "sns.set(font_scale=2., style='whitegrid')\n",
    "\n",
    "fig, ax = plt.subplots(figsize=(9,6.5))\n",
    "\n",
    "sns.lineplot(ax=ax, data=best_metrics[best_metrics.dataset == 'CIFAR-100'],\n",
    "             x='train_subset', y='raw_err_bound_100', hue='intrinsic_dim',\n",
    "             lw=8, marker='o', markersize=18,\n",
    "             palette=Temps_5.mpl_colors)\n",
    "ax.set(xticks=[.2, .5, .8], xlabel='Prior Train Subset', ylabel=r'Err. Bound ($\\%$)')\n",
    "\n",
    "handles, labels = ax.get_legend_handles_labels()\n",
    "for h in handles:\n",
    "    h.set(linewidth=8)\n",
    "ax.legend(handles=handles, labels=labels, title='Intrinsic. Dim.', loc='best')\n",
    "\n",
    "fig.tight_layout()\n",
    "fig.show()\n",
    "\n",
    "# fig.savefig('c100_id_subset.pdf', bbox_inches='tight')"
   ]
  }
 ],
 "metadata": {
  "interpreter": {
   "hash": "9a29c0d4cdbde0795a1c6bbf68b0f44210ca6bb19f803d01e942dae22462c9a8"
  },
  "kernelspec": {
   "display_name": "Python 3.9.12 ('pactl')",
   "language": "python",
   "name": "python3"
  },
  "language_info": {
   "codemirror_mode": {
    "name": "ipython",
    "version": 3
   },
   "file_extension": ".py",
   "mimetype": "text/x-python",
   "name": "python",
   "nbconvert_exporter": "python",
   "pygments_lexer": "ipython3",
   "version": "3.9.12"
  },
  "orig_nbformat": 4
 },
 "nbformat": 4,
 "nbformat_minor": 2
}
