{
 "cells": [
  {
   "cell_type": "code",
   "execution_count": null,
   "metadata": {},
   "outputs": [],
   "source": [
    "import os\n",
    "from pathlib import Path\n",
    "import numpy as np\n",
    "\n",
    "from pactl.nn.projectors import FixedNumpySeed\n",
    "from pactl.data import get_dataset\n",
    "\n",
    "\n",
    "def save_indices(dataset, seed=137, data_dir=None, save_dir=None):\n",
    "    with FixedNumpySeed(seed):\n",
    "        train_data, _ = get_dataset(dataset, root=data_dir)\n",
    "        ind = np.random.permutation(len(train_data))\n",
    "        fname = Path(save_dir or '.') / f'indices_{dataset}_{seed}.npy'\n",
    "        np.save(fname, ind)\n",
    "\n",
    "    return fname\n",
    "\n",
    "\n",
    "datasets = ['mnist',\n",
    "            'fmnist',\n",
    "            'cifar10',\n",
    "            'cifar100',\n",
    "            'tiny-imagenet',\n",
    "            'imagenet',\n",
    "            'svhn']\n",
    "\n",
    "save_dir = Path(os.environ.get('ASSETDIR')) / 'pactl' / 'ddp-idx'\n",
    "save_dir.mkdir(parents=True, exist_ok=True)\n",
    "for dataset in datasets[-1:]:\n",
    "    print(save_indices(dataset, seed=137, save_dir=save_dir))"
   ]
  },
  {
   "cell_type": "code",
   "execution_count": null,
   "metadata": {},
   "outputs": [],
   "source": []
  }
 ],
 "metadata": {
  "interpreter": {
   "hash": "9a29c0d4cdbde0795a1c6bbf68b0f44210ca6bb19f803d01e942dae22462c9a8"
  },
  "kernelspec": {
   "display_name": "Python 3.9.12 ('pactl')",
   "language": "python",
   "name": "python3"
  },
  "language_info": {
   "codemirror_mode": {
    "name": "ipython",
    "version": 3
   },
   "file_extension": ".py",
   "mimetype": "text/x-python",
   "name": "python",
   "nbconvert_exporter": "python",
   "pygments_lexer": "ipython3",
   "version": "3.9.12"
  },
  "orig_nbformat": 4
 },
 "nbformat": 4,
 "nbformat_minor": 2
}
