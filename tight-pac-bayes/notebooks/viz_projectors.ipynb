{
 "cells": [
  {
   "cell_type": "code",
   "execution_count": null,
   "metadata": {},
   "outputs": [],
   "source": [
    "import matplotlib.pyplot as plt\n",
    "import seaborn as sns\n",
    "from matplotlib import ticker\n",
    "\n",
    "import pandas as pd\n",
    "import dill\n",
    "\n",
    "sns.set(font_scale=2.5, style='whitegrid')"
   ]
  },
  {
   "cell_type": "code",
   "execution_count": null,
   "metadata": {},
   "outputs": [],
   "source": [
    "from palettable.cartocolors.diverging import Temps_5, Temps_3"
   ]
  },
  {
   "cell_type": "markdown",
   "metadata": {},
   "source": [
    "## Transfer"
   ]
  },
  {
   "cell_type": "code",
   "execution_count": null,
   "metadata": {},
   "outputs": [],
   "source": [
    "folder = '../experiments/transfer_learning/projectors_comparison2'\n",
    "dfs = []\n",
    "for name in ['results.df','sparse_operator.df']:\n",
    "    with open(f'{folder}/{name}', 'rb') as f:\n",
    "        dfs.append(dill.load(f))\n",
    "df = pd.concat(dfs).reset_index().drop(columns=['index'])\n",
    "df['projector'] = df['projector'].astype(str)\n",
    "projectors = ['LazyRandom','BNLazyRandom','RoundedKron','RoundedDoubleKron']\n",
    "new_names = ['Dense','FiLM','Kronecker Sum', 'Kronecker Product']\n",
    "for name,proj in zip(new_names,projectors):\n",
    "    df.loc[df['projector'].str.contains(proj),'P Matrix'] = name\n",
    "df.loc[df['P Matrix'].isnull(),'P Matrix'] = 'Sparse'\n",
    "df['GPU Hours'] = df['time']/3600.;\n",
    "\n",
    "fig, ax = plt.subplots(figsize=(9,7))\n",
    "\n",
    "sns.lineplot(data=df, ax=ax, x='d',y='Train_Acc', hue='P Matrix',\n",
    "             legend=False, alpha=.9, lw=9,\n",
    "             palette=Temps_5.mpl_colors, #sns.cubehelix_palette(n_colors=5),\n",
    "             hue_order=['Sparse'] + new_names)\n",
    "sns.scatterplot(data=df, ax=ax, x='d',y='Train_Acc',hue='P Matrix',\n",
    "                alpha=.9,marker='o', s=500, palette=Temps_5.mpl_colors, #sns.cubehelix_palette(n_colors=5),\n",
    "                hue_order=['Sparse'] + new_names)\n",
    "\n",
    "formatter = ticker.ScalarFormatter(useMathText=True)\n",
    "formatter.set_scientific(True)\n",
    "formatter.set_powerlimits((-1,1))\n",
    "ax.xaxis.set_major_formatter(formatter)\n",
    "\n",
    "ax.set(xlabel=r'$d$', ylabel='Train Accuracy')\n",
    "\n",
    "handles, labels = ax.get_legend_handles_labels()\n",
    "for h in handles:\n",
    "    h.set_sizes([500])\n",
    "    h.set_alpha(.9)\n",
    "ax.legend(handles=handles, labels=labels, title='', fontsize=24)\n",
    "\n",
    "fig.show()\n",
    "# fig.savefig('projector_transfer_acc.pdf', bbox_inches='tight')"
   ]
  },
  {
   "cell_type": "markdown",
   "metadata": {},
   "source": [
    "## Runtime (GPU Hours)"
   ]
  },
  {
   "cell_type": "code",
   "execution_count": null,
   "metadata": {},
   "outputs": [],
   "source": [
    "fig, ax = plt.subplots(figsize=(9,7))\n",
    "\n",
    "sns.lineplot(data=df, ax=ax, x='d',y='GPU Hours', hue='P Matrix',\n",
    "             legend=False, alpha=.9, lw=9,\n",
    "             palette=Temps_5.mpl_colors,#sns.cubehelix_palette(n_colors=5),\n",
    "             hue_order=['Sparse'] + new_names)\n",
    "sns.scatterplot(data=df, ax=ax, x='d',y='GPU Hours',hue='P Matrix',\n",
    "                alpha=.9,marker='o', s=500,\n",
    "                palette=Temps_5.mpl_colors,#sns.cubehelix_palette(n_colors=5),\n",
    "                hue_order=['Sparse'] + new_names)\n",
    "\n",
    "formatter = ticker.ScalarFormatter(useMathText=True)\n",
    "formatter.set_scientific(True)\n",
    "formatter.set_powerlimits((-1,1))\n",
    "ax.xaxis.set_major_formatter(formatter)\n",
    "\n",
    "ax.set(xlabel=r'$d$', ylabel='Runtime (GPU Hours)', xlim=(0, 1.7e4))\n",
    "\n",
    "handles, labels = ax.get_legend_handles_labels()\n",
    "for h in handles:\n",
    "    h.set_sizes([500])\n",
    "    h.set_alpha(.9)\n",
    "ax.legend(handles=handles, labels=labels, title='', fontsize=24)\n",
    "\n",
    "fig.show()\n",
    "# fig.savefig('projector_transfer_time.pdf', bbox_inches='tight')"
   ]
  },
  {
   "cell_type": "markdown",
   "metadata": {},
   "source": [
    "## Scratch"
   ]
  },
  {
   "cell_type": "code",
   "execution_count": null,
   "metadata": {},
   "outputs": [],
   "source": [
    "folder = '../experiments/transfer_learning/projector_compare_fromscratch'\n",
    "# read pandas dataframe\n",
    "with open(f'{folder}/results.df', 'rb') as f:\n",
    "    df = dill.load(f)\n",
    "df['projector'] = df['projector'].astype(str)\n",
    "projectors = ['FiLMLazyRandom','RoundedDoubleKron','CombinedRDKronFiLM',]\n",
    "new_names = ['FiLM','Kronecker Product', 'FiLM + Kron']\n",
    "for name,proj in zip(new_names,projectors):\n",
    "    df.loc[df['projector'].str.contains(proj),'P Matrix'] = name\n",
    "df['GPU Hours'] = df['time']/3600.\n",
    "# df\n",
    "\n",
    "fig, ax = plt.subplots(figsize=(9,7))\n",
    "\n",
    "sns.lineplot(data=df, ax=ax, x='d',y='Train_Acc', hue='P Matrix',\n",
    "             legend=False, alpha=.9, lw=9, palette=Temps_3.mpl_colors,#sns.cubehelix_palette(n_colors=5),\n",
    "             hue_order=new_names)\n",
    "sns.scatterplot(data=df, ax=ax, x='d',y='Train_Acc', hue='P Matrix',\n",
    "                alpha=.9, marker='o', s=500, palette=Temps_3.mpl_colors,#sns.cubehelix_palette(n_colors=5),\n",
    "                hue_order=new_names)\n",
    "\n",
    "ax.set(ylabel='Train Accuracy', xlabel=r'$d$')\n",
    "\n",
    "handles, labels = ax.get_legend_handles_labels()\n",
    "for h in handles:\n",
    "    h.set_sizes([500])\n",
    "    h.set_alpha(.9)\n",
    "ax.legend(handles=handles, labels=labels, title='', fontsize=24)\n",
    "\n",
    "formatter = ticker.ScalarFormatter(useMathText=True)\n",
    "formatter.set_scientific(True)\n",
    "formatter.set_powerlimits((-1,1))\n",
    "ax.xaxis.set_major_formatter(formatter)\n",
    "\n",
    "fig.show()\n",
    "# fig.savefig('projector_comparison_scratch.pdf', bbox_inches='tight')"
   ]
  }
 ],
 "metadata": {
  "interpreter": {
   "hash": "9a29c0d4cdbde0795a1c6bbf68b0f44210ca6bb19f803d01e942dae22462c9a8"
  },
  "kernelspec": {
   "display_name": "Python 3.9.12 ('pactl')",
   "language": "python",
   "name": "python3"
  },
  "language_info": {
   "codemirror_mode": {
    "name": "ipython",
    "version": 3
   },
   "file_extension": ".py",
   "mimetype": "text/x-python",
   "name": "python",
   "nbconvert_exporter": "python",
   "pygments_lexer": "ipython3",
   "version": "3.9.12"
  },
  "orig_nbformat": 4
 },
 "nbformat": 4,
 "nbformat_minor": 2
}
