{
 "cells": [
  {
   "cell_type": "code",
   "execution_count": null,
   "metadata": {},
   "outputs": [],
   "source": [
    "import wandb\n",
    "from tqdm.auto import tqdm\n",
    "import pandas as pd\n",
    "import seaborn as sns\n",
    "import matplotlib.pyplot as plt\n",
    "\n",
    "sns.set(font_scale=2, style='whitegrid')"
   ]
  },
  {
   "cell_type": "code",
   "execution_count": null,
   "metadata": {},
   "outputs": [],
   "source": [
    "def get_summary_metrics(sweep_id, config_keys=None, filter_func=None):\n",
    "  api = wandb.Api(timeout=60)\n",
    "  sweep = api.sweep(sweep_id)\n",
    "\n",
    "  data = []\n",
    "  for run in tqdm(sweep.runs, desc='Runs', leave=False):\n",
    "    if callable(filter_func) and not filter_func(run):\n",
    "      continue\n",
    "    cfg = {k: run.config[k] for k in config_keys or []}\n",
    "    data.append(dict(run_id=run.id, **cfg, **run.summary))\n",
    "\n",
    "  return sweep, pd.DataFrame(data)"
   ]
  },
  {
   "cell_type": "code",
   "execution_count": null,
   "metadata": {},
   "outputs": [],
   "source": [
    "_, metrics = get_summary_metrics('deeplearn/pactl/vn8zm3zs', config_keys=['intrinsic_dim'])"
   ]
  },
  {
   "cell_type": "code",
   "execution_count": null,
   "metadata": {},
   "outputs": [],
   "source": [
    "fig, ax = plt.subplots(figsize=(9,7))\n",
    "sns.lineplot(ax=ax, data=metrics, x='intrinsic_dim', y='sgd/test/best_acc', legend=False,\n",
    "             alpha=.5)\n",
    "sns.scatterplot(ax=ax, data=metrics, x='intrinsic_dim', y='sgd/test/best_acc', legend=False,\n",
    "                marker='o', s=400, hue='sgd/test/best_acc',\n",
    "                palette=sns.color_palette('crest_r', as_cmap=True), zorder=10)\n",
    "ax.set(xlabel='Intrinsic Dimension', ylabel='Test Accuracy', title='MNIST')\n",
    "\n",
    "fig.tight_layout()\n",
    "# fig.savefig('id.pdf', bbox_inches='tight')"
   ]
  }
 ],
 "metadata": {
  "interpreter": {
   "hash": "9a29c0d4cdbde0795a1c6bbf68b0f44210ca6bb19f803d01e942dae22462c9a8"
  },
  "kernelspec": {
   "display_name": "Python 3.9.12 ('pactl')",
   "language": "python",
   "name": "python3"
  },
  "language_info": {
   "codemirror_mode": {
    "name": "ipython",
    "version": 3
   },
   "file_extension": ".py",
   "mimetype": "text/x-python",
   "name": "python",
   "nbconvert_exporter": "python",
   "pygments_lexer": "ipython3",
   "version": "3.9.12"
  },
  "orig_nbformat": 4
 },
 "nbformat": 4,
 "nbformat_minor": 2
}
