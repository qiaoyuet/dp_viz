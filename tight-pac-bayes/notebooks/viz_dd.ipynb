{
 "cells": [
  {
   "cell_type": "code",
   "execution_count": null,
   "metadata": {},
   "outputs": [],
   "source": [
    "import wandb\n",
    "from tqdm.auto import tqdm\n",
    "import pandas as pd\n",
    "import seaborn as sns\n",
    "import matplotlib.pyplot as plt\n",
    "\n",
    "sns.set(font_scale=2, style='whitegrid')"
   ]
  },
  {
   "cell_type": "code",
   "execution_count": null,
   "metadata": {},
   "outputs": [],
   "source": [
    "def get_summary_metrics(sweep_id, config_keys=None, filter_func=None):\n",
    "  api = wandb.Api(timeout=60)\n",
    "  sweep = api.sweep(sweep_id)\n",
    "\n",
    "  data = []\n",
    "  for run in tqdm(sweep.runs, desc='Runs', leave=False):\n",
    "    cfg = {k: run.config[k] for k in config_keys or []}\n",
    "    if callable(filter_func) and not filter_func(run, cfg):\n",
    "      continue\n",
    "    data.append(dict(run_id=run.id, **cfg, **run.summary))\n",
    "\n",
    "  return sweep, pd.DataFrame(data)"
   ]
  },
  {
   "cell_type": "code",
   "execution_count": null,
   "metadata": {},
   "outputs": [],
   "source": [
    "def f(run, cfg):\n",
    "    if run.state != 'finished':\n",
    "        return False\n",
    "    return run.config['train_subset'] == 1 and run.config['label_noise'] < .4\n",
    "\n",
    "## CIFAR-10\n",
    "_, metrics = get_summary_metrics('deeplearn/pactl/xet192s5', config_keys=['base_width', 'label_noise'],\n",
    "                                 filter_func=f)\n",
    "metrics['mode'] = 'scratch'\n",
    "\n",
    "## CIFAR-10 Transfer\n",
    "_, tr_metrics = get_summary_metrics('deeplearn/pactl/mcex7uak', config_keys=['pre_base_width', 'label_noise'],\n",
    "                                    filter_func=f)\n",
    "tr_metrics = tr_metrics.rename(columns={ 'pre_base_width': 'base_width' })\n",
    "tr_metrics['mode'] = 'transfer'\n",
    "\n",
    "all_metrics = pd.concat([metrics, tr_metrics]).reset_index().drop(columns=['index'])\n",
    "# all_metrics"
   ]
  },
  {
   "cell_type": "code",
   "execution_count": null,
   "metadata": {},
   "outputs": [],
   "source": [
    "from palettable.cartocolors.qualitative import Vivid_3 as _palette\n",
    "\n",
    "fig, ax = plt.subplots(figsize=(8,8))\n",
    "sns.lineplot(ax=ax, data=all_metrics, x='base_width', y='sgd/test/acc', hue='label_noise',\n",
    "             markersize=11, linewidth=4, style='mode', #marker='o',\n",
    "             palette=sns.color_palette(_palette.mpl_colors, all_metrics.label_noise.nunique()))\n",
    "ax.set(xlabel='Base Width', ylabel='Test Accuracy (Last Epoch)')\n",
    "handles, labels = ax.get_legend_handles_labels()\n",
    "for h in handles:\n",
    "    h.set(linewidth=4)\n",
    "labels[0] = 'Label Noise'\n",
    "labels[-3] = 'Mode'\n",
    "labels[-2] = 'Scratch'\n",
    "labels[-1] = 'Transfer'\n",
    "ax.legend(handles, labels, loc='lower right', bbox_to_anchor=(.8, 0, .2, 1))\n",
    "\n",
    "fig.tight_layout()\n",
    "# fig.savefig('dd_cifar10.pdf', bbox_inches='tight')"
   ]
  },
  {
   "cell_type": "code",
   "execution_count": null,
   "metadata": {},
   "outputs": [],
   "source": [
    "from palettable.wesanderson import Moonrise5_6, Moonrise6_5\n",
    "import numpy as np\n",
    "\n",
    "fig, ax = plt.subplots(figsize=(14,9))\n",
    "sns.lineplot(ax=ax, data=all_metrics, x='base_width', y='sgd/test/best_acc', hue='label_noise',\n",
    "             markersize=12, linewidth=4, style='mode', # marker='o',\n",
    "             palette=sns.color_palette(Moonrise6_5.mpl_colors))\n",
    "ax.set(xlabel='Base Width', ylabel='Test Accuracy (Early Stopping)')\n",
    "handles, labels = ax.get_legend_handles_labels()\n",
    "for h in handles:\n",
    "    h.set(linewidth=4)\n",
    "labels[0] = 'Label Noise'\n",
    "labels[-3] = 'Mode'\n",
    "labels[-2] = 'Scratch'\n",
    "labels[-1] = 'Transfer'\n",
    "ax.legend(handles, labels, loc='upper right', bbox_to_anchor=(1, .0, .5, 1))\n",
    "\n",
    "fig.tight_layout()\n",
    "# fig.savefig('es.pdf', bbox_inches='tight')"
   ]
  },
  {
   "cell_type": "markdown",
   "metadata": {},
   "source": [
    "## Train"
   ]
  },
  {
   "cell_type": "code",
   "execution_count": null,
   "metadata": {},
   "outputs": [],
   "source": [
    "from palettable.wesanderson import Moonrise5_6, Moonrise6_5\n",
    "\n",
    "fig, ax = plt.subplots(figsize=(13,9))\n",
    "sns.lineplot(ax=ax, data=all_metrics, x='base_width', y='sgd/train/mini_loss', hue='label_noise',\n",
    "             marker='o', markersize=11, linewidth=6, style='mode',\n",
    "             palette=sns.color_palette(Moonrise6_5.mpl_colors))\n",
    "ax.set(xlabel='Base Width', ylabel='Train Loss (Last Epoch)', yscale='log')\n",
    "handles, labels = ax.get_legend_handles_labels()\n",
    "for h in handles:\n",
    "    h.set(linewidth=4)\n",
    "labels[0] = 'Label Noise'\n",
    "labels[-3] = 'Mode'\n",
    "labels[-2] = 'Scratch'\n",
    "labels[-1] = 'Transfer'\n",
    "ax.legend(handles, labels, loc='upper right', bbox_to_anchor=(1, 0, .5, 1))\n",
    "\n",
    "fig.tight_layout()\n",
    "# fig.savefig('train_loss.pdf', bbox_inches='tight')"
   ]
  }
 ],
 "metadata": {
  "interpreter": {
   "hash": "9a29c0d4cdbde0795a1c6bbf68b0f44210ca6bb19f803d01e942dae22462c9a8"
  },
  "kernelspec": {
   "display_name": "Python 3.9.12 ('pactl')",
   "language": "python",
   "name": "python3"
  },
  "language_info": {
   "codemirror_mode": {
    "name": "ipython",
    "version": 3
   },
   "file_extension": ".py",
   "mimetype": "text/x-python",
   "name": "python",
   "nbconvert_exporter": "python",
   "pygments_lexer": "ipython3",
   "version": "3.9.12"
  },
  "orig_nbformat": 4
 },
 "nbformat": 4,
 "nbformat_minor": 2
}
