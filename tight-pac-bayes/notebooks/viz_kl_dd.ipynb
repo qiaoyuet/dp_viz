{
 "cells": [
  {
   "cell_type": "code",
   "execution_count": null,
   "metadata": {},
   "outputs": [],
   "source": [
    "import pandas as pd\n",
    "import seaborn as sns\n",
    "import matplotlib.pyplot as plt\n",
    "import numpy as np\n",
    "\n",
    "sns.set(font_scale=2, style='whitegrid')"
   ]
  },
  {
   "cell_type": "code",
   "execution_count": null,
   "metadata": {},
   "outputs": [],
   "source": [
    "palette = sns.cubehelix_palette(as_cmap=False)\n",
    "\n",
    "c10 = pd.DataFrame({\n",
    "    'kl': np.array([9806.511, 8498.097, 8322.036, 7716.818]) / (8 * 1024),\n",
    "    'subset': [0.0, 0.2, 0.5, 0.8],\n",
    "    'Dataset': 'CIFAR-10',\n",
    "})\n",
    "\n",
    "c100 = pd.DataFrame({\n",
    "    'kl': np.array([33142.03, 12074.113, 5586.883, 3745.724]) / (8 * 1024),\n",
    "    'subset': [0.0, 0.2, 0.5, 0.8],\n",
    "    'Dataset': 'CIFAR-100',\n",
    "})\n",
    "\n",
    "data = pd.concat([c10, c100]).reset_index().drop(columns=['index'])\n",
    "\n",
    "fig, ax = plt.subplots(figsize=(6,4))\n",
    "ax2 = ax.twinx()\n",
    "\n",
    "sns.lineplot(data=data[data.Dataset == 'CIFAR-10'], ax=ax, x='subset', y='kl',\n",
    "             marker='o', markersize=11, linewidth=7, color=palette[1])\n",
    "ax.set(xlabel='Data Subset', ylabel='Msg. Length (KiB)')\n",
    "ax.tick_params(axis='y', colors=palette[1])\n",
    "\n",
    "sns.lineplot(data=data[data.Dataset == 'CIFAR-100'], ax=ax2, x='subset', y='kl',\n",
    "             marker='o', markersize=13, linewidth=7, color=palette[-1])\n",
    "ax2.set(xlabel='Data Subset', ylabel='')\n",
    "ax2.tick_params(axis='y', colors=palette[-1])"
   ]
  }
 ],
 "metadata": {
  "interpreter": {
   "hash": "9a29c0d4cdbde0795a1c6bbf68b0f44210ca6bb19f803d01e942dae22462c9a8"
  },
  "kernelspec": {
   "display_name": "Python 3.9.12 ('pactl')",
   "language": "python",
   "name": "python3"
  },
  "language_info": {
   "codemirror_mode": {
    "name": "ipython",
    "version": 3
   },
   "file_extension": ".py",
   "mimetype": "text/x-python",
   "name": "python",
   "nbconvert_exporter": "python",
   "pygments_lexer": "ipython3",
   "version": "3.9.12"
  },
  "orig_nbformat": 4
 },
 "nbformat": 4,
 "nbformat_minor": 2
}
