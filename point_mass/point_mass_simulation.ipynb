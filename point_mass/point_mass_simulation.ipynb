{
 "cells": [
  {
   "cell_type": "code",
   "execution_count": 1,
   "id": "5c1ec97e",
   "metadata": {},
   "outputs": [
    {
     "data": {
      "text/plain": [
       "<torch._C.Generator at 0x734dc553d870>"
      ]
     },
     "execution_count": 1,
     "metadata": {},
     "output_type": "execute_result"
    }
   ],
   "source": [
    "import numpy as np\n",
    "import random\n",
    "import pandas as pd\n",
    "import scipy.stats\n",
    "import matplotlib.pyplot as plt\n",
    "import torch\n",
    "from torch import nn\n",
    "from torch.utils.data import TensorDataset, DataLoader\n",
    "from sklearn.model_selection import train_test_split\n",
    "from tqdm import tqdm\n",
    "import opacus\n",
    "from opacus.validators import ModuleValidator\n",
    "from opacus import PrivacyEngine\n",
    "from opacus.utils.batch_memory_manager import BatchMemoryManager\n",
    "\n",
    "SEED = 1024\n",
    "random.seed(SEED)\n",
    "np.random.seed(SEED)\n",
    "torch.manual_seed(SEED)"
   ]
  },
  {
   "cell_type": "markdown",
   "id": "40be7cf9",
   "metadata": {},
   "source": [
    "#### simulate points"
   ]
  },
  {
   "cell_type": "code",
   "execution_count": 2,
   "id": "891cfa39",
   "metadata": {},
   "outputs": [],
   "source": [
    "# multivariate gaussian\n",
    "f_0 = np.random.multivariate_normal(  # majority of class 0\n",
    "    mean=[5, 5], cov=[[3, 0], [0, 3]], size=1000\n",
    ")  \n",
    "f_1 = np.random.multivariate_normal(  # majority of class 1\n",
    "    mean=[13, 5], cov=[[3, 0], [0, 3]], size=1000\n",
    ")\n",
    "# point mass gaussian\n",
    "f_0_1 = np.random.multivariate_normal(  # minority of class 1\n",
    "    mean=[-3, 10], cov=[[1, 0], [0, 1]], size=50\n",
    ")\n",
    "f_1_1 = np.random.multivariate_normal(  # minority of class 0\n",
    "    mean=[23, 0], cov=[[1, 0], [0, 1]], size=50\n",
    ")"
   ]
  },
  {
   "cell_type": "code",
   "execution_count": 3,
   "id": "c51fce73",
   "metadata": {},
   "outputs": [
    {
     "data": {
      "text/plain": [
       "((1000, 2), (50, 2))"
      ]
     },
     "execution_count": 3,
     "metadata": {},
     "output_type": "execute_result"
    }
   ],
   "source": [
    "f_0.shape, f_0_1.shape"
   ]
  },
  {
   "cell_type": "code",
   "execution_count": 4,
   "id": "ae681f34",
   "metadata": {},
   "outputs": [],
   "source": [
    "x1_0, x2_0 = np.concatenate([f_0[:, 0], f_1_1[:, 0]]), np.concatenate([f_0[:, 1], f_1_1[:, 1]])  # class 0\n",
    "x1_1, x2_1 = np.concatenate([f_1[:, 0], f_0_1[:, 0]]), np.concatenate([f_1[:, 1], f_0_1[:, 1]])  # class 1"
   ]
  },
  {
   "cell_type": "code",
   "execution_count": 5,
   "id": "446edf5e",
   "metadata": {},
   "outputs": [
    {
     "data": {
      "text/plain": [
       "((1050,), (1050,), (1050,), (1050,))"
      ]
     },
     "execution_count": 5,
     "metadata": {},
     "output_type": "execute_result"
    }
   ],
   "source": [
    "x1_0.shape, x2_0.shape, x1_1.shape, x2_1.shape"
   ]
  },
  {
   "cell_type": "code",
   "execution_count": 6,
   "id": "f640336c",
   "metadata": {},
   "outputs": [],
   "source": [
    "# plt.scatter(x1_0, x2_0, color='blue')\n",
    "# plt.scatter(x1_1, x2_1, color='red')\n",
    "# plt.show()"
   ]
  },
  {
   "cell_type": "markdown",
   "id": "2d5476c2",
   "metadata": {},
   "source": [
    "#### center mass and many pairs"
   ]
  },
  {
   "cell_type": "code",
   "execution_count": 7,
   "id": "e4f99b2d",
   "metadata": {},
   "outputs": [],
   "source": [
    "n_pairs = 20"
   ]
  },
  {
   "cell_type": "code",
   "execution_count": 8,
   "id": "196a7388",
   "metadata": {},
   "outputs": [],
   "source": [
    "f_0 = np.random.multivariate_normal(  # majority of class 0\n",
    "    mean=[5, 5], cov=[[7, 0], [0, 7]], size=1000\n",
    ")\n",
    "f_1 = np.random.multivariate_normal(  # majority of class 1\n",
    "    mean=[20, 5], cov=[[7, 0], [0, 7]], size=1000\n",
    ")"
   ]
  },
  {
   "cell_type": "code",
   "execution_count": 9,
   "id": "45c20bb5",
   "metadata": {},
   "outputs": [],
   "source": [
    "tmp_list = []\n",
    "tmp_label = []\n",
    "for _ in range(n_pairs):\n",
    "    tmp_list.append(np.random.multivariate_normal(\n",
    "        mean=[np.random.uniform(4, 21), np.random.uniform(-15, -4)], cov=[[0.02, 0], [0, 0.02]], size=2\n",
    "    ))\n",
    "    tmp_label.extend([np.random.choice([0, 1])] * 2)\n",
    "    #\n",
    "    tmp_list.append(np.random.multivariate_normal(\n",
    "        mean=[np.random.uniform(4, 21), np.random.uniform(-15, -4)], cov=[[0.02, 0], [0, 0.02]], size=2\n",
    "    ))\n",
    "    tmp_label.extend([np.random.choice([0, 1])] * 2)\n",
    "    #\n",
    "    tmp_list.append(np.random.multivariate_normal(\n",
    "        mean=[np.random.uniform(4, 21), np.random.uniform(13, 25)], cov=[[0.02, 0], [0, 0.02]], size=2\n",
    "    ))\n",
    "    tmp_label.extend([np.random.choice([0, 1])] * 2)\n",
    "    #\n",
    "    tmp_list.append(np.random.multivariate_normal(\n",
    "        mean=[np.random.uniform(4, 21), np.random.uniform(13, 25)], cov=[[0.02, 0], [0, 0.02]], size=2\n",
    "    ))\n",
    "    tmp_label.extend([np.random.choice([0, 1])] * 2)\n",
    "f_0_1 = np.concatenate(tmp_list, axis=0)\n",
    "tmp_label = np.array(tmp_label)"
   ]
  },
  {
   "cell_type": "code",
   "execution_count": 10,
   "id": "32493e3c",
   "metadata": {},
   "outputs": [
    {
     "data": {
      "text/plain": [
       "((160, 2), (160,))"
      ]
     },
     "execution_count": 10,
     "metadata": {},
     "output_type": "execute_result"
    }
   ],
   "source": [
    "f_0_1.shape, tmp_label.shape"
   ]
  },
  {
   "cell_type": "code",
   "execution_count": 11,
   "id": "11e67f2e",
   "metadata": {},
   "outputs": [],
   "source": [
    "# plt.scatter(f_0[:, 0], f_0[:, 1], color='blue')\n",
    "# plt.scatter(f_1[:, 0], f_1[:, 1], color='red')\n",
    "# plt.scatter(f_0_1[:, 0], f_0_1[:, 1], color='green')\n",
    "# plt.show()"
   ]
  },
  {
   "cell_type": "code",
   "execution_count": 12,
   "id": "f7933f01",
   "metadata": {},
   "outputs": [],
   "source": [
    "x1_0, x2_0 = np.concatenate([f_0[:, 0], f_0_1[np.where(tmp_label == 0)[0], 0]]), np.concatenate([f_0[:, 1], f_0_1[np.where(tmp_label == 0)[0], 1]])  # class 0\n",
    "x1_1, x2_1 = np.concatenate([f_1[:, 0], f_0_1[np.where(tmp_label == 1)[0], 0]]), np.concatenate([f_1[:, 1], f_0_1[np.where(tmp_label == 1)[0], 1]])  # class 1"
   ]
  },
  {
   "cell_type": "code",
   "execution_count": 13,
   "id": "8115d98c",
   "metadata": {},
   "outputs": [
    {
     "data": {
      "text/plain": [
       "((1074,), (1074,), (1086,), (1086,))"
      ]
     },
     "execution_count": 13,
     "metadata": {},
     "output_type": "execute_result"
    }
   ],
   "source": [
    "x1_0.shape, x2_0.shape, x1_1.shape, x2_1.shape"
   ]
  },
  {
   "cell_type": "code",
   "execution_count": 14,
   "id": "03fdf8c7",
   "metadata": {},
   "outputs": [
    {
     "data": {
      "image/png": "[encoded data removed]",
      "text/plain": [
       "<Figure size 640x480 with 1 Axes>"
      ]
     },
     "metadata": {},
     "output_type": "display_data"
    }
   ],
   "source": [
    "plt.scatter(x1_0, x2_0, color='blue')\n",
    "plt.scatter(x1_1, x2_1, color='red')\n",
    "plt.show()"
   ]
  },
  {
   "cell_type": "code",
   "execution_count": 15,
   "id": "4e144799",
   "metadata": {},
   "outputs": [],
   "source": [
    "all_x1 = np.concatenate([x1_0, x1_1])\n",
    "all_x2 = np.concatenate([x2_0, x2_1])\n",
    "all_y = np.concatenate([np.zeros(len(x1_0)), np.ones(len(x1_1))]).astype(int)"
   ]
  },
  {
   "cell_type": "code",
   "execution_count": 32,
   "id": "68e11000",
   "metadata": {},
   "outputs": [],
   "source": [
    "outlier_indicator = np.array([0] * f_0[:, 0].shape[0] + [1] * f_0_1[np.where(tmp_label == 0)[0], 0].shape[0] + \\\n",
    "                             [0] * f_1[:, 0].shape[0] + [1] * f_0_1[np.where(tmp_label == 1)[0], 0].shape[0])"
   ]
  },
  {
   "cell_type": "code",
   "execution_count": 28,
   "id": "f3b7b333",
   "metadata": {},
   "outputs": [
    {
     "data": {
      "text/plain": [
       "((2160,), (2160,), (2160,))"
      ]
     },
     "execution_count": 28,
     "metadata": {},
     "output_type": "execute_result"
    }
   ],
   "source": [
    "all_x1.shape, all_x2.shape, all_y.shape"
   ]
  },
  {
   "cell_type": "code",
   "execution_count": 33,
   "id": "29fb5a90",
   "metadata": {},
   "outputs": [
    {
     "data": {
      "text/plain": [
       "(2160,)"
      ]
     },
     "execution_count": 33,
     "metadata": {},
     "output_type": "execute_result"
    }
   ],
   "source": [
    "outlier_indicator.shape"
   ]
  },
  {
   "cell_type": "code",
   "execution_count": 43,
   "id": "9f32365b",
   "metadata": {},
   "outputs": [
    {
     "data": {
      "image/png": "[encoded data removed]",
      "text/plain": [
       "<Figure size 640x480 with 1 Axes>"
      ]
     },
     "metadata": {},
     "output_type": "display_data"
    }
   ],
   "source": [
    "plt.scatter(all_x1[np.where((all_y == 0) & (outlier_indicator == 0))[0]], \n",
    "            all_x2[np.where((all_y == 0) & (outlier_indicator == 0))[0]], color='blue')\n",
    "plt.scatter(all_x1[np.where((all_y == 1) & (outlier_indicator == 0))[0]], \n",
    "            all_x2[np.where((all_y == 1) & (outlier_indicator == 0))[0]], color='red')\n",
    "plt.scatter(all_x1[np.where(outlier_indicator == 1)[0]], \n",
    "            all_x2[np.where(outlier_indicator == 1)[0]], color='green')\n",
    "plt.show()"
   ]
  },
  {
   "cell_type": "markdown",
   "id": "6fe90315",
   "metadata": {},
   "source": [
    "#### create dataset"
   ]
  },
  {
   "cell_type": "code",
   "execution_count": 52,
   "id": "ceb52f8c",
   "metadata": {},
   "outputs": [],
   "source": [
    "all_x1 = np.concatenate([x1_0, x1_1])\n",
    "all_x2 = np.concatenate([x2_0, x2_1])\n",
    "all_y = np.concatenate([np.zeros(len(x1_0)), np.ones(len(x1_1))]).astype(int)"
   ]
  },
  {
   "cell_type": "code",
   "execution_count": 53,
   "id": "8f380f32",
   "metadata": {},
   "outputs": [
    {
     "data": {
      "text/plain": [
       "(2160, 2160, 2160)"
      ]
     },
     "execution_count": 53,
     "metadata": {},
     "output_type": "execute_result"
    }
   ],
   "source": [
    "len(all_x1), len(all_x2), len(all_y)"
   ]
  },
  {
   "cell_type": "code",
   "execution_count": 54,
   "id": "a984bc47",
   "metadata": {},
   "outputs": [],
   "source": [
    "dat = pd.DataFrame({'x1': all_x1, 'x2': all_x2, 'y': all_y})"
   ]
  },
  {
   "cell_type": "code",
   "execution_count": 55,
   "id": "358386b4",
   "metadata": {},
   "outputs": [
    {
     "data": {
      "text/html": [
       "<div>\n",
       "<style scoped>\n",
       "    .dataframe tbody tr th:only-of-type {\n",
       "        vertical-align: middle;\n",
       "    }\n",
       "\n",
       "    .dataframe tbody tr th {\n",
       "        vertical-align: top;\n",
       "    }\n",
       "\n",
       "    .dataframe thead th {\n",
       "        text-align: right;\n",
       "    }\n",
       "</style>\n",
       "<table border=\"1\" class=\"dataframe\">\n",
       "  <thead>\n",
       "    <tr style=\"text-align: right;\">\n",
       "      <th></th>\n",
       "      <th>x1</th>\n",
       "      <th>x2</th>\n",
       "      <th>y</th>\n",
       "    </tr>\n",
       "  </thead>\n",
       "  <tbody>\n",
       "    <tr>\n",
       "      <th>0</th>\n",
       "      <td>12.695067</td>\n",
       "      <td>7.506619</td>\n",
       "      <td>0</td>\n",
       "    </tr>\n",
       "    <tr>\n",
       "      <th>1</th>\n",
       "      <td>8.867220</td>\n",
       "      <td>4.999865</td>\n",
       "      <td>0</td>\n",
       "    </tr>\n",
       "    <tr>\n",
       "      <th>2</th>\n",
       "      <td>5.076529</td>\n",
       "      <td>6.755821</td>\n",
       "      <td>0</td>\n",
       "    </tr>\n",
       "    <tr>\n",
       "      <th>3</th>\n",
       "      <td>4.572927</td>\n",
       "      <td>7.597095</td>\n",
       "      <td>0</td>\n",
       "    </tr>\n",
       "    <tr>\n",
       "      <th>4</th>\n",
       "      <td>2.565994</td>\n",
       "      <td>2.657738</td>\n",
       "      <td>0</td>\n",
       "    </tr>\n",
       "  </tbody>\n",
       "</table>\n",
       "</div>"
      ],
      "text/plain": [
       "          x1        x2  y\n",
       "0  12.695067  7.506619  0\n",
       "1   8.867220  4.999865  0\n",
       "2   5.076529  6.755821  0\n",
       "3   4.572927  7.597095  0\n",
       "4   2.565994  2.657738  0"
      ]
     },
     "execution_count": 55,
     "metadata": {},
     "output_type": "execute_result"
    }
   ],
   "source": [
    "dat.head()"
   ]
  },
  {
   "cell_type": "code",
   "execution_count": 56,
   "id": "1fbac2f1",
   "metadata": {},
   "outputs": [],
   "source": [
    "dat['tmp_index'] = dat.index"
   ]
  },
  {
   "cell_type": "code",
   "execution_count": 57,
   "id": "92642786",
   "metadata": {},
   "outputs": [],
   "source": [
    "x_data = torch.tensor(dat[['x1', 'x2', 'tmp_index']].values, dtype=torch.float32)\n",
    "y_data = torch.tensor(dat[['y', 'tmp_index']].values, dtype=torch.long)"
   ]
  },
  {
   "cell_type": "code",
   "execution_count": 58,
   "id": "5e3ebbf9",
   "metadata": {},
   "outputs": [],
   "source": [
    "x_train, x_valid, y_train, y_valid = train_test_split(x_data, y_data, random_state=SEED, test_size=0.5, shuffle=True)"
   ]
  },
  {
   "cell_type": "code",
   "execution_count": 64,
   "id": "60d6e31a",
   "metadata": {},
   "outputs": [
    {
     "data": {
      "text/plain": [
       "tensor([[  16.2225,    5.5560, 1778.0000],\n",
       "        [  19.9595,    5.4694, 1987.0000],\n",
       "        [  16.1860,    6.5901, 1927.0000],\n",
       "        ...,\n",
       "        [   3.6601,    3.9194,  173.0000],\n",
       "        [  22.7428,    8.6713, 2027.0000],\n",
       "        [  21.2822,    3.7072, 1294.0000]])"
      ]
     },
     "execution_count": 64,
     "metadata": {},
     "output_type": "execute_result"
    }
   ],
   "source": [
    "x_valid"
   ]
  },
  {
   "cell_type": "code",
   "execution_count": null,
   "id": "eea01e5a",
   "metadata": {},
   "outputs": [],
   "source": []
  },
  {
   "cell_type": "code",
   "execution_count": null,
   "id": "940c6ba9",
   "metadata": {},
   "outputs": [],
   "source": []
  },
  {
   "cell_type": "code",
   "execution_count": null,
   "id": "a57a8db9",
   "metadata": {},
   "outputs": [],
   "source": []
  },
  {
   "cell_type": "code",
   "execution_count": null,
   "id": "0be26c52",
   "metadata": {},
   "outputs": [],
   "source": []
  },
  {
   "cell_type": "markdown",
   "id": "2f7f242e",
   "metadata": {},
   "source": [
    "#### model"
   ]
  },
  {
   "cell_type": "code",
   "execution_count": null,
   "id": "a6eb03df",
   "metadata": {},
   "outputs": [],
   "source": [
    "device = 'cuda' if torch.cuda.is_available() else 'cpu'"
   ]
  },
  {
   "cell_type": "code",
   "execution_count": null,
   "id": "b16d39af",
   "metadata": {},
   "outputs": [],
   "source": [
    "N_DIM = 2\n",
    "N_CLASS = 2\n",
    "\n",
    "# class MLP(nn.Module):\n",
    "#     def __init__(self):\n",
    "#         super().__init__()\n",
    "#         self.linear1 = nn.Linear(N_DIM, 32)\n",
    "#         self.linear2 = nn.Linear(32, 64)\n",
    "#         self.linear3 = nn.Linear(64, 32)\n",
    "#         self.linear4 = nn.Linear(32, N_CLASS)\n",
    "#         self.relu = nn.ReLU()\n",
    "#         # self.dropout = nn.Dropout(p=0.25)\n",
    "#     def forward(self, x):\n",
    "#         return self.linear4(self.relu(self.linear3(self.relu(self.linear2(self.relu(self.linear1(x)))))))\n",
    "# model = MLP().to(device)\n",
    "\n",
    "model = nn.Sequential(\n",
    "    nn.Linear(N_DIM, 32),\n",
    "    nn.ReLU(),\n",
    "    nn.Linear(32, 64),\n",
    "    nn.ReLU(),\n",
    "    nn.Linear(64, 128),\n",
    "    nn.ReLU(),\n",
    "    nn.Linear(128, 64),\n",
    "    nn.ReLU(),\n",
    "    nn.Linear(64, 32),\n",
    "    nn.ReLU(),\n",
    "    nn.Linear(32, N_CLASS)\n",
    ")\n",
    "model = model.to(device)"
   ]
  },
  {
   "cell_type": "code",
   "execution_count": null,
   "id": "96e69517",
   "metadata": {},
   "outputs": [],
   "source": [
    "model"
   ]
  },
  {
   "cell_type": "code",
   "execution_count": null,
   "id": "fcf7f0cf",
   "metadata": {},
   "outputs": [],
   "source": [
    "LR = 0.001\n",
    "loss_fn = nn.CrossEntropyLoss()\n",
    "optimizer = torch.optim.SGD(params=model.parameters(), lr=LR)"
   ]
  },
  {
   "cell_type": "markdown",
   "id": "e52256af",
   "metadata": {},
   "source": [
    "#### non-priv train"
   ]
  },
  {
   "cell_type": "code",
   "execution_count": null,
   "id": "9c4fe482",
   "metadata": {},
   "outputs": [],
   "source": [
    "def np_to_torch(x):\n",
    "    return torch.from_numpy(x).to(torch.float32).to(device)\n",
    "\n",
    "def torch_to_np(x):\n",
    "    return x.cpu().detach().numpy()"
   ]
  },
  {
   "cell_type": "code",
   "execution_count": null,
   "id": "6f627196",
   "metadata": {},
   "outputs": [],
   "source": [
    "def accuracy(preds, labels):\n",
    "    return (torch_to_np(preds) == torch_to_np(labels)).mean()"
   ]
  },
  {
   "cell_type": "code",
   "execution_count": null,
   "id": "d0b3d6a8",
   "metadata": {},
   "outputs": [],
   "source": [
    "EPOCHS = 10000\n",
    "EVAL_EVERY = 100\n",
    "\n",
    "x_train, x_valid = x_train.to(device), x_valid.to(device)\n",
    "y_train, y_valid = y_train.to(device), y_valid.to(device)\n",
    "\n",
    "step_counter = 0\n",
    "train_loss_values, valid_loss_values = [], []\n",
    "\n",
    "for epoch in tqdm(range(EPOCHS + 1)):\n",
    "\n",
    "    model.train()\n",
    "\n",
    "    y_logits = model(x_train)\n",
    "    loss = loss_fn(y_logits, y_train.flatten())\n",
    "    _, y_pred = torch.max(y_logits, 1)\n",
    "    acc = accuracy(y_pred, y_train.flatten())\n",
    "\n",
    "    optimizer.zero_grad()\n",
    "    loss.backward()\n",
    "    optimizer.step()\n",
    "    \n",
    "    step_counter += 1\n",
    "    \n",
    "    if step_counter % EVAL_EVERY == 0:    \n",
    "        model.eval()\n",
    "        with torch.inference_mode():\n",
    "            valid_logits = model(x_valid)\n",
    "            valid_loss = loss_fn(valid_logits, y_valid.flatten())\n",
    "            _, valid_pred = torch.max(valid_logits, 1)\n",
    "            valid_acc = accuracy(valid_pred, y_valid.flatten())\n",
    "            \n",
    "        print(f'Epoch: {epoch:4.0f} | Step: {step_counter:4.0f} | Train Loss: {loss:.5f}, Accuracy: {acc:.2f}% | Validation Loss: {valid_loss:.5f}, Accuracy: {valid_acc:.2f}%')\n",
    "        train_loss_values.append(loss.detach().cpu().numpy())\n",
    "        valid_loss_values.append(valid_loss.detach().cpu().numpy())"
   ]
  },
  {
   "cell_type": "markdown",
   "id": "eb4657ab",
   "metadata": {},
   "source": [
    "#### priv train"
   ]
  },
  {
   "cell_type": "code",
   "execution_count": null,
   "id": "d4348c4d",
   "metadata": {},
   "outputs": [],
   "source": [
    "train_dataset = TensorDataset(x_train, y_train)\n",
    "train_loader = DataLoader(train_dataset, batch_size=len(train_dataset))\n",
    "valid_dataset = TensorDataset(x_valid, y_valid)\n",
    "valid_loader = DataLoader(valid_dataset, batch_size=len(valid_dataset))"
   ]
  },
  {
   "cell_type": "code",
   "execution_count": null,
   "id": "33518dc3",
   "metadata": {},
   "outputs": [],
   "source": [
    "MAX_GRAD_NORM = 1.0\n",
    "EPSILON = 5.0\n",
    "DELTA = 1e-5\n",
    "# BATCH_SIZE = 512\n",
    "# MAX_PHYSICAL_BATCH_SIZE = 128\n",
    "MAX_PHYSICAL_BATCH_SIZE = len(train_dataset)\n",
    "EPOCHS = 300"
   ]
  },
  {
   "cell_type": "code",
   "execution_count": null,
   "id": "01c5e616",
   "metadata": {},
   "outputs": [],
   "source": [
    "model_priv = ModuleValidator.fix(model)"
   ]
  },
  {
   "cell_type": "code",
   "execution_count": null,
   "id": "1a52f869",
   "metadata": {},
   "outputs": [],
   "source": [
    "LR = 0.001\n",
    "loss_fn = nn.CrossEntropyLoss()\n",
    "optimizer = torch.optim.SGD(params=model_priv.parameters(), lr=LR)"
   ]
  },
  {
   "cell_type": "code",
   "execution_count": null,
   "id": "c6029077",
   "metadata": {},
   "outputs": [],
   "source": [
    "privacy_engine = PrivacyEngine()\n",
    "\n",
    "model_priv, optimizer, train_loader = privacy_engine.make_private_with_epsilon(\n",
    "    module=model_priv,\n",
    "    optimizer=optimizer,\n",
    "    data_loader=train_loader,\n",
    "    epochs=EPOCHS,\n",
    "    target_epsilon=EPSILON,\n",
    "    target_delta=DELTA,\n",
    "    max_grad_norm=MAX_GRAD_NORM,\n",
    ")\n",
    "\n",
    "print(f\"Using sigma={optimizer.noise_multiplier} and C={MAX_GRAD_NORM}\")"
   ]
  },
  {
   "cell_type": "code",
   "execution_count": null,
   "id": "cc498a04",
   "metadata": {},
   "outputs": [],
   "source": [
    "step_counter = 0\n",
    "\n",
    "for epoch in tqdm(range(EPOCHS + 1)):\n",
    "    \n",
    "    model_priv.train()\n",
    "\n",
    "    with BatchMemoryManager(\n",
    "        data_loader=train_loader, \n",
    "        max_physical_batch_size=MAX_PHYSICAL_BATCH_SIZE, \n",
    "        optimizer=optimizer\n",
    "    ) as memory_safe_data_loader:\n",
    "        \n",
    "         for i, (x_train, y_train) in enumerate(memory_safe_data_loader): \n",
    "            x_train = x_train.to(device)\n",
    "            y_train = y_train.to(device)\n",
    "            \n",
    "            y_logits = model_priv(x_train)\n",
    "            loss = loss_fn(y_logits, y_train.flatten())\n",
    "            _, y_pred = torch.max(y_logits, 1)\n",
    "            acc = accuracy(y_pred, y_train.flatten())\n",
    "\n",
    "            optimizer.zero_grad()\n",
    "            loss.backward()\n",
    "            optimizer.step()\n",
    "            \n",
    "            step_counter += 1\n",
    "            \n",
    "            if step_counter % EVAL_EVERY == 0:\n",
    "                epsilon = privacy_engine.get_epsilon(DELTA)\n",
    "                model_priv.eval()\n",
    "                with torch.inference_mode():\n",
    "                    for x_valid, y_valid in valid_loader:\n",
    "                        x_valid = x_valid.to(device)\n",
    "                        y_valid = y_valid.to(device) \n",
    "                        \n",
    "                        valid_logits = model_priv(x_valid)\n",
    "                        valid_loss = loss_fn(valid_logits, y_valid.flatten())\n",
    "                        _, valid_pred = torch.max(valid_logits, 1)\n",
    "                        valid_acc = accuracy(valid_pred, y_valid.flatten())\n",
    "\n",
    "                print(f'Epoch: {epoch:4.0f} | Step: {step_counter:4.0f} | Train Loss: {loss:.5f}, Accuracy: {acc:.2f}% | Validation Loss: {valid_loss:.5f}, Accuracy: {valid_acc:.2f}% | Eps: {epsilon:.2f}')"
   ]
  },
  {
   "cell_type": "markdown",
   "id": "f575d80b",
   "metadata": {},
   "source": [
    "#### plot"
   ]
  },
  {
   "cell_type": "code",
   "execution_count": null,
   "id": "09eefa19",
   "metadata": {},
   "outputs": [],
   "source": [
    "def infer(xinfer, model):\n",
    "    model.eval()\n",
    "    with torch.no_grad():\n",
    "        ylogits = model(xinfer)\n",
    "        _, yinfer = torch.max(ylogits, 1)\n",
    "    return yinfer"
   ]
  },
  {
   "cell_type": "code",
   "execution_count": null,
   "id": "7ec112aa",
   "metadata": {},
   "outputs": [],
   "source": [
    "fig, (ax1, ax2) = plt.subplots(1, 2, figsize=(16, 7))\n",
    "\n",
    "## non-priv model\n",
    "xlin1 = np.linspace(round(torch_to_np(x_train[:, 0]).min()) - 2, round(torch_to_np(x_train[:, 0]).max()) + 2, 500)\n",
    "xlin2 = np.linspace(round(torch_to_np(x_train[:, 1]).min()) - 2, round(torch_to_np(x_train[:, 1]).max()) + 2, 500)\n",
    "xx1, xx2 = np.meshgrid(xlin1, xlin2)\n",
    "xinfer = np.column_stack([xx1.ravel(), xx2.ravel()])\n",
    "xinfer = np_to_torch(xinfer)\n",
    "yinfer = infer(xinfer, model)\n",
    "yinfer = torch_to_np(yinfer)\n",
    "yy = np.reshape(yinfer, xx1.shape)\n",
    "\n",
    "# make contour of decision boundary\n",
    "ax1.contourf(xx1, xx2, yy, alpha=.5, cmap='rainbow')\n",
    "\n",
    "# plot class 0\n",
    "# correctly/wrongly predicted is plotted as point/cross\n",
    "xinfer = x_train[y_train.ravel() == 0]\n",
    "yinfer = infer(xinfer, model)\n",
    "xinfer = torch_to_np(xinfer)\n",
    "yinfer = torch_to_np(yinfer)\n",
    "ax1.plot(xinfer[yinfer.ravel() == 0, 0], xinfer[yinfer.ravel() == 0, 1], '.', \n",
    "         color='blue', markersize=8, label='class 0')\n",
    "ax1.plot(xinfer[yinfer.ravel() == 1, 0], xinfer[yinfer.ravel() == 1, 1], 'x', \n",
    "         color='blue', markersize=8, label='class 0 error')\n",
    "\n",
    "# plot class 1\n",
    "# correctly/wrongly predicted is plotted as point/cross\n",
    "xinfer = x_train[y_train.ravel() == 1]\n",
    "yinfer = infer(xinfer, model)\n",
    "xinfer = torch_to_np(xinfer)\n",
    "yinfer = torch_to_np(yinfer)\n",
    "ax1.plot(xinfer[yinfer.ravel() == 1, 0], xinfer[yinfer.ravel() == 1, 1], '.', \n",
    "         color='red', markersize=8, label='class 1')\n",
    "ax1.plot(xinfer[yinfer.ravel() == 0, 0], xinfer[yinfer.ravel() == 0, 1], 'x', \n",
    "         color='red', markersize=8, label='class 1 error')\n",
    "\n",
    "ax1.set_title('non_priv_train')\n",
    "# ax1.legend(loc='lower left', framealpha=.5, fontsize=10)\n",
    "\n",
    "## priv model\n",
    "xlin1 = np.linspace(round(torch_to_np(x_train[:, 0]).min()) - 2, round(torch_to_np(x_train[:, 0]).max()) + 2, 500)\n",
    "xlin2 = np.linspace(round(torch_to_np(x_train[:, 1]).min()) - 2, round(torch_to_np(x_train[:, 1]).max()) + 2, 500)\n",
    "xx1, xx2 = np.meshgrid(xlin1, xlin2)\n",
    "xinfer = np.column_stack([xx1.ravel(), xx2.ravel()])\n",
    "xinfer = np_to_torch(xinfer)\n",
    "yinfer = infer(xinfer, model_priv)\n",
    "yinfer = torch_to_np(yinfer)\n",
    "yy = np.reshape(yinfer, xx1.shape)\n",
    "\n",
    "# make contour of decision boundary\n",
    "ax2.contourf(xx1, xx2, yy, alpha=.5, cmap='rainbow')\n",
    "\n",
    "# plot class 0\n",
    "# correctly/wrongly predicted is plotted as point/cross\n",
    "xinfer = x_train[y_train.ravel() == 0]\n",
    "yinfer = infer(xinfer, model_priv)\n",
    "xinfer = torch_to_np(xinfer)\n",
    "yinfer = torch_to_np(yinfer)\n",
    "ax2.plot(xinfer[yinfer.ravel() == 0, 0], xinfer[yinfer.ravel() == 0, 1], '.', \n",
    "         color='blue', markersize=8, label='class 0')\n",
    "ax2.plot(xinfer[yinfer.ravel() == 1, 0], xinfer[yinfer.ravel() == 1, 1], 'x', \n",
    "         color='blue', markersize=8, label='class 0 error')\n",
    "\n",
    "# plot class 1\n",
    "# correctly/wrongly predicted is plotted as point/cross\n",
    "xinfer = x_train[y_train.ravel() == 1]\n",
    "yinfer = infer(xinfer, model_priv)\n",
    "xinfer = torch_to_np(xinfer)\n",
    "yinfer = torch_to_np(yinfer)\n",
    "ax2.plot(xinfer[yinfer.ravel() == 1, 0], xinfer[yinfer.ravel() == 1, 1], '.', \n",
    "         color='red', markersize=8, label='class 1')\n",
    "ax2.plot(xinfer[yinfer.ravel() == 0, 0], xinfer[yinfer.ravel() == 0, 1], 'x', \n",
    "         color='red', markersize=8, label='class 1 error')\n",
    "\n",
    "ax2.set_title('priv_train')\n",
    "# ax2.legend(loc='lower left', framealpha=.5, fontsize=10)\n",
    "\n",
    "plt.show()\n",
    "plt.close()"
   ]
  },
  {
   "cell_type": "code",
   "execution_count": null,
   "id": "2f3b796f",
   "metadata": {},
   "outputs": [],
   "source": [
    "fig, (ax1, ax2) = plt.subplots(1, 2, figsize=(16, 7))\n",
    "\n",
    "## non-priv model\n",
    "xlin1 = np.linspace(round(torch_to_np(x_valid[:, 0]).min()) - 2, round(torch_to_np(x_valid[:, 0]).max()) + 2, 500)\n",
    "xlin2 = np.linspace(round(torch_to_np(x_valid[:, 1]).min()) - 2, round(torch_to_np(x_valid[:, 1]).max()) + 2, 500)\n",
    "xx1, xx2 = np.meshgrid(xlin1, xlin2)\n",
    "xinfer = np.column_stack([xx1.ravel(), xx2.ravel()])\n",
    "xinfer = np_to_torch(xinfer)\n",
    "yinfer = infer(xinfer, model)\n",
    "yinfer = torch_to_np(yinfer)\n",
    "yy = np.reshape(yinfer, xx1.shape)\n",
    "\n",
    "# make contour of decision boundary\n",
    "ax1.contourf(xx1, xx2, yy, alpha=.5, cmap='rainbow')\n",
    "\n",
    "# plot class 0\n",
    "# correctly/wrongly predicted is plotted as point/cross\n",
    "xinfer = x_valid[y_valid.ravel() == 0]\n",
    "yinfer = infer(xinfer, model)\n",
    "xinfer = torch_to_np(xinfer)\n",
    "yinfer = torch_to_np(yinfer)\n",
    "ax1.plot(xinfer[yinfer.ravel() == 0, 0], xinfer[yinfer.ravel() == 0, 1], '.', \n",
    "         color='blue', markersize=8, label='class 0')\n",
    "ax1.plot(xinfer[yinfer.ravel() == 1, 0], xinfer[yinfer.ravel() == 1, 1], 'x', \n",
    "         color='blue', markersize=8, label='class 0 error')\n",
    "\n",
    "# plot class 1\n",
    "# correctly/wrongly predicted is plotted as point/cross\n",
    "xinfer = x_valid[y_valid.ravel() == 1]\n",
    "yinfer = infer(xinfer, model)\n",
    "xinfer = torch_to_np(xinfer)\n",
    "yinfer = torch_to_np(yinfer)\n",
    "ax1.plot(xinfer[yinfer.ravel() == 1, 0], xinfer[yinfer.ravel() == 1, 1], '.', \n",
    "         color='red', markersize=8, label='class 1')\n",
    "ax1.plot(xinfer[yinfer.ravel() == 0, 0], xinfer[yinfer.ravel() == 0, 1], 'x', \n",
    "         color='red', markersize=8, label='class 1 error')\n",
    "\n",
    "ax1.set_title('non_priv_test')\n",
    "# ax1.legend(loc='lower left', framealpha=.5, fontsize=10)\n",
    "\n",
    "## priv model\n",
    "xlin1 = np.linspace(round(torch_to_np(x_valid[:, 0]).min()) - 2, round(torch_to_np(x_valid[:, 0]).max()) + 2, 500)\n",
    "xlin2 = np.linspace(round(torch_to_np(x_valid[:, 1]).min()) - 2, round(torch_to_np(x_valid[:, 1]).max()) + 2, 500)\n",
    "xx1, xx2 = np.meshgrid(xlin1, xlin2)\n",
    "xinfer = np.column_stack([xx1.ravel(), xx2.ravel()])\n",
    "xinfer = np_to_torch(xinfer)\n",
    "yinfer = infer(xinfer, model_priv)\n",
    "yinfer = torch_to_np(yinfer)\n",
    "yy = np.reshape(yinfer, xx1.shape)\n",
    "\n",
    "# make contour of decision boundary\n",
    "ax2.contourf(xx1, xx2, yy, alpha=.5, cmap='rainbow')\n",
    "\n",
    "# plot class 0\n",
    "# correctly/wrongly predicted is plotted as point/cross\n",
    "xinfer = x_valid[y_valid.ravel() == 0]\n",
    "yinfer = infer(xinfer, model_priv)\n",
    "xinfer = torch_to_np(xinfer)\n",
    "yinfer = torch_to_np(yinfer)\n",
    "ax2.plot(xinfer[yinfer.ravel() == 0, 0], xinfer[yinfer.ravel() == 0, 1], '.', \n",
    "         color='blue', markersize=8, label='class 0')\n",
    "ax2.plot(xinfer[yinfer.ravel() == 1, 0], xinfer[yinfer.ravel() == 1, 1], 'x', \n",
    "         color='blue', markersize=8, label='class 0 error')\n",
    "\n",
    "# plot class 1\n",
    "# correctly/wrongly predicted is plotted as point/cross\n",
    "xinfer = x_valid[y_valid.ravel() == 1]\n",
    "yinfer = infer(xinfer, model_priv)\n",
    "xinfer = torch_to_np(xinfer)\n",
    "yinfer = torch_to_np(yinfer)\n",
    "ax2.plot(xinfer[yinfer.ravel() == 1, 0], xinfer[yinfer.ravel() == 1, 1], '.', \n",
    "         color='red', markersize=8, label='class 1')\n",
    "ax2.plot(xinfer[yinfer.ravel() == 0, 0], xinfer[yinfer.ravel() == 0, 1], 'x', \n",
    "         color='red', markersize=8, label='class 1 error')\n",
    "\n",
    "ax2.set_title('priv_test')\n",
    "# ax2.legend(loc='lower left', framealpha=.5, fontsize=10)\n",
    "\n",
    "plt.show()\n",
    "plt.close()"
   ]
  }
 ],
 "metadata": {
  "kernelspec": {
   "display_name": "py310",
   "language": "python",
   "name": "py310"
  },
  "language_info": {
   "codemirror_mode": {
    "name": "ipython",
    "version": 3
   },
   "file_extension": ".py",
   "mimetype": "text/x-python",
   "name": "python",
   "nbconvert_exporter": "python",
   "pygments_lexer": "ipython3",
   "version": "3.10.12"
  }
 },
 "nbformat": 4,
 "nbformat_minor": 5
}
